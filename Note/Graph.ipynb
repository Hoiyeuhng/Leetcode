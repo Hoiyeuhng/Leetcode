{
 "cells": [
  {
   "cell_type": "markdown",
   "metadata": {},
   "source": [
    "# Note for Graph\n",
    "## Definition\n",
    "### Graph\n",
    "Graph is a set of points V and set of lines E (which connected the points in V).\n",
    "\n",
    "### Points\n",
    "A set of Points. A point is a value (the value can be in n dimensions).\n",
    "Points are also called nodes and vertices.\n",
    "Points can come with labels, colors, values, etc.\n",
    "\n",
    "### Lines\n",
    "A set of Lines that connected the points. A line can connect a point to another point (between point a and point b) or a point to itself (between point a and point a, this kind of line is also called a loop). \n",
    "Lines are also called edges and arcs.\n",
    "Lines can come with directions, colors, values, etc.\n",
    "\n",
    "## Type of Graph\n",
    "There are many type of graph, and they are not mutually exclusive.\n",
    "\n",
    "### undirected\n",
    "\n"
   ]
  },
  {
   "cell_type": "markdown",
   "metadata": {},
   "source": [
    "\n",
    "## Reference:\n",
    "https://mathworld.wolfram.com/Graph.html\n",
    "\n",
    "https://mathworld.wolfram.com/OrientedGraph.html\n",
    "\n",
    "https://mathworld.wolfram.com/DirectedGraph.html\n"
   ]
  }
 ],
 "metadata": {
  "kernelspec": {
   "display_name": "Java",
   "language": "java",
   "name": "java"
  },
  "language_info": {
   "name": "java"
  },
  "orig_nbformat": 4
 },
 "nbformat": 4,
 "nbformat_minor": 2
}
